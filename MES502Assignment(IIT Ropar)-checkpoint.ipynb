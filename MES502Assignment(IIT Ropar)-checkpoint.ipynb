{
 "cells": [
  {
   "cell_type": "code",
   "execution_count": 1,
   "metadata": {},
   "outputs": [
    {
     "name": "stderr",
     "output_type": "stream",
     "text": [
      "C:\\Users\\Mizgaan\\Anaconda3\\lib\\site-packages\\statsmodels\\tools\\_testing.py:19: FutureWarning: pandas.util.testing is deprecated. Use the functions in the public API at pandas.testing instead.\n",
      "  import pandas.util.testing as tm\n"
     ]
    }
   ],
   "source": [
    "\n",
    "import numpy as np\n",
    "import numpy.linalg as d\n",
    "import matplotlib.pyplot as plt\n",
    "import seaborn as sns"
   ]
  },
  {
   "cell_type": "markdown",
   "metadata": {},
   "source": [
    "## Q.1 In python, define and print the vector vec1 with size (1x6) and matrices mat1 with size (6x6) in\n",
    "## which each component has 2 significant figures as:\n"
   ]
  },
  {
   "cell_type": "code",
   "execution_count": 2,
   "metadata": {},
   "outputs": [
    {
     "name": "stdout",
     "output_type": "stream",
     "text": [
      "Enter the number of rows:- 1\n",
      "Enter the number of columns:- 6\n",
      "When row No. is 0\n",
      "1\n",
      "23\n",
      "36\n",
      "45\n",
      "65\n",
      "5\n",
      "[[ 1 23 36 45 65  5]]\n",
      "Shape of matrix (1, 1, 6)\n"
     ]
    }
   ],
   "source": [
    "# Enter the Input for the vec1 which is 1st matrix , Given Shape ATQ is 1X6 :\n",
    "\n",
    "r1=int(input(\"Enter the number of rows:- \"))\n",
    "c1=int(input(\"Enter the number of columns:- \"))\n",
    "vec1=[]\n",
    "for i in range(r1):\n",
    "    print('When row No. is {}'.format(i))\n",
    "    x=[]\n",
    "    for j in range (c1):\n",
    "        x.append(eval(input()))\n",
    "    vec1.append(x)\n",
    "\n",
    "vec1=np.array(vec1)\n",
    "print(vec1)\n",
    "z=np.array([vec1]).shape\n",
    "print('Shape of matrix',z)"
   ]
  },
  {
   "cell_type": "code",
   "execution_count": 4,
   "metadata": {},
   "outputs": [
    {
     "name": "stdout",
     "output_type": "stream",
     "text": [
      "Enter the number of rows:- 6\n",
      "Enter the number of columns:- 6\n",
      "When row No. is 0\n",
      "3\n",
      "36\n",
      "32\n",
      "25\n",
      "14\n",
      "25\n",
      "When row No. is 1\n",
      "36\n",
      "12\n",
      "14\n",
      "25\n",
      "26\n",
      "27\n",
      "When row No. is 2\n",
      "28\n",
      "29\n",
      "30\n",
      "31\n",
      "23\n",
      "33\n",
      "When row No. is 3\n",
      "34\n",
      "35\n",
      "36\n",
      "37\n",
      "38\n",
      "39\n",
      "When row No. is 4\n",
      "25\n",
      "2+6\n",
      "28\n",
      "29\n",
      "30\n",
      "45\n",
      "When row No. is 5\n",
      "47\n",
      "58\n",
      "45\n",
      "14\n",
      "25\n",
      "65\n",
      "[[ 3 36 32 25 14 25]\n",
      " [36 12 14 25 26 27]\n",
      " [28 29 30 31 23 33]\n",
      " [34 35 36 37 38 39]\n",
      " [25  8 28 29 30 45]\n",
      " [47 58 45 14 25 65]]\n",
      "Shape of matrix (1, 6, 6)\n"
     ]
    }
   ],
   "source": [
    "# vec1 = np.array([[-1.0 ,4.0, -9.0, 0.4, 0.1 ,2.0]])\n",
    "# mat1=np.array([[10,3.4,51,1.1,3.4,5.4],[70,-9.4,]]\n",
    "\n",
    "## Create the 2nd Matrix mat1 , Given Shape ATQ is 6X6 :\n",
    "\n",
    "r2=int(input(\"Enter the number of rows:- \"))\n",
    "c2=int(input(\"Enter the number of columns:- \"))\n",
    "mat1=[]\n",
    "for i in range(r2):\n",
    "    print('When row No. is {}'.format(i))\n",
    "    x=[]\n",
    "    for j in range (c2):\n",
    "        x.append(eval(input()))\n",
    "    mat1.append(x)\n",
    "\n",
    "mat1=np.array(mat1)\n",
    "print(mat1)\n",
    "z=np.array([mat1]).shape\n",
    "print('Shape of matrix',z)"
   ]
  },
  {
   "cell_type": "code",
   "execution_count": 6,
   "metadata": {},
   "outputs": [
    {
     "name": "stdout",
     "output_type": "stream",
     "text": [
      "Vec2 = [[ 0.78571429 18.07142857 28.28571429 35.35714286 51.07142857  3.92857143]]\n"
     ]
    }
   ],
   "source": [
    "#a) Compute: vec2 = pi/4 * vec1\n",
    "\n",
    "pi=22/7\n",
    "vec2=(pi/4)*vec1\n",
    "print('Vec2 = {}'.format(vec2), end='\\n')"
   ]
  },
  {
   "cell_type": "code",
   "execution_count": 7,
   "metadata": {},
   "outputs": [
    {
     "name": "stdout",
     "output_type": "stream",
     "text": [
      "vec3= [[ 0.70688321  0.71222929 -0.99993524 -0.69697662  0.69242894 -0.70598824]]\n"
     ]
    }
   ],
   "source": [
    "#b) Compute: vec3 = cos(vec2)\n",
    "\n",
    "vec3=np.cos(vec2)\n",
    "print('vec3= {}'.format(vec3))"
   ]
  },
  {
   "cell_type": "code",
   "execution_count": 8,
   "metadata": {},
   "outputs": [
    {
     "name": "stdout",
     "output_type": "stream",
     "text": [
      "vec4= [[ 2.41376643 24.42445857 34.00012951 43.60604675 66.38485787  3.58802353]]\n"
     ]
    }
   ],
   "source": [
    "# c) Compute: vec4 = vec1 + 2*vec3\n",
    "\n",
    "vec4= vec1+(2*vec3)\n",
    "print('vec4= {}'.format(vec4))"
   ]
  },
  {
   "cell_type": "code",
   "execution_count": 9,
   "metadata": {},
   "outputs": [
    {
     "data": {
      "text/plain": [
       "[89.88715054373735]"
      ]
     },
     "execution_count": 9,
     "metadata": {},
     "output_type": "execute_result"
    }
   ],
   "source": [
    "#d) Compute: norm(vec4)\n",
    "\n",
    "mngt=[]\n",
    "for i in vec4:\n",
    "    norm=np.sqrt(np.sum(np.square(i)))\n",
    "    mngt.append(norm)\n",
    "mngt"
   ]
  },
  {
   "cell_type": "code",
   "execution_count": 10,
   "metadata": {},
   "outputs": [
    {
     "name": "stdout",
     "output_type": "stream",
     "text": [
      "Multiplication Is Possible \n",
      "\n",
      "vec5 =  [[   3  828 1152 1125  910  125]\n",
      " [  36  276  504 1125 1690  135]\n",
      " [  28  667 1080 1395 1495  165]\n",
      " [  34  805 1296 1665 2470  195]\n",
      " [  25  184 1008 1305 1950  225]\n",
      " [  47 1334 1620  630 1625  325]]\n"
     ]
    }
   ],
   "source": [
    "# print(mat1.shape(), vec1.shape())\n",
    "if (c1)==(r2):\n",
    "    print(\"Multiplication Is Possible \\n\")\n",
    "    vec5=mat1*vec1\n",
    "    print('vec5 = ',vec5)\n",
    "else :\n",
    "    print('Multiplication of a Matrix is Not Possiblle')"
   ]
  },
  {
   "cell_type": "code",
   "execution_count": 11,
   "metadata": {},
   "outputs": [
    {
     "name": "stdout",
     "output_type": "stream",
     "text": [
      "vec5 = [[   7.241  879.281 1088.004 1090.151  929.388   89.701]\n",
      " [  86.896  293.094  476.002 1090.151 1726.006   96.877]\n",
      " [  67.585  708.309 1020.004 1351.787 1526.852  118.405]\n",
      " [  82.068  854.856 1224.005 1613.424 2522.625  139.933]\n",
      " [  60.344  195.396  952.004 1264.575 1991.546  161.461]\n",
      " [ 113.447 1416.619 1530.006  610.485 1659.621  233.222]]\n"
     ]
    }
   ],
   "source": [
    "# e) Compute the product of mat1 and vec4 and set vec5 equal to the result\n",
    "vec5=np.round(mat1*vec4,3)\n",
    "print('vec5 =',vec5)"
   ]
  },
  {
   "cell_type": "code",
   "execution_count": 12,
   "metadata": {},
   "outputs": [
    {
     "name": "stdout",
     "output_type": "stream",
     "text": [
      "Transpose of mat1 is :- [[ 3 36 28 34 25 47]\n",
      " [36 12 29 35  8 58]\n",
      " [32 14 30 36 28 45]\n",
      " [25 25 31 37 29 14]\n",
      " [14 26 23 38 30 25]\n",
      " [25 27 33 39 45 65]]\n"
     ]
    }
   ],
   "source": [
    "# f) Compute the transpose of mat1\n",
    "\n",
    "mat1_trns=np.transpose(mat1)\n",
    "print('Transpose of mat1 is :-', mat1_trns)"
   ]
  },
  {
   "cell_type": "code",
   "execution_count": 13,
   "metadata": {},
   "outputs": [
    {
     "data": {
      "text/plain": [
       "45386315.999999925"
      ]
     },
     "execution_count": 13,
     "metadata": {},
     "output_type": "execute_result"
    }
   ],
   "source": [
    "# g) Compute the determinant of mat1\n",
    "\n",
    "d.det(mat1)"
   ]
  },
  {
   "cell_type": "code",
   "execution_count": 14,
   "metadata": {},
   "outputs": [
    {
     "data": {
      "text/plain": [
       "177"
      ]
     },
     "execution_count": 14,
     "metadata": {},
     "output_type": "execute_result"
    }
   ],
   "source": [
    "mat1.trace()"
   ]
  },
  {
   "cell_type": "markdown",
   "metadata": {},
   "source": [
    "## Q.2: Write a program to extract first and third elements of both the first and third rows from a given (4x4) array made with random real values. Each component of the array should have 4 significant figures. Also find the minimum and maximum elements in this 4x4 array."
   ]
  },
  {
   "cell_type": "code",
   "execution_count": 15,
   "metadata": {},
   "outputs": [
    {
     "name": "stdout",
     "output_type": "stream",
     "text": [
      "Enter the number of rows:- 4\n",
      "Enter the number of columns:- 4\n",
      "When row No. is 0\n",
      "12\n",
      "13\n",
      "14\n",
      "15\n",
      "When row No. is 1\n",
      "16\n",
      "17\n",
      "18\n",
      "19\n",
      "When row No. is 2\n",
      "20\n",
      "21\n",
      "22\n",
      "23\n",
      "When row No. is 3\n",
      "24\n",
      "25\n",
      "26\n",
      "27\n",
      "[[12 13 14 15]\n",
      " [16 17 18 19]\n",
      " [20 21 22 23]\n",
      " [24 25 26 27]]\n",
      "Shape of matrix (1, 4, 4)\n"
     ]
    }
   ],
   "source": [
    "## Create the matrix \n",
    "\n",
    "a=int(input(\"Enter the number of rows:- \"))\n",
    "b=int(input(\"Enter the number of columns:- \"))\n",
    "mat=[]\n",
    "for i in range(a):\n",
    "    print('When row No. is {}'.format(i))\n",
    "    x=[]\n",
    "    for j in range (b):\n",
    "        x.append(eval(input()))\n",
    "    mat.append(x)\n",
    "\n",
    "mat1=np.array(mat)\n",
    "print(mat1)\n",
    "z=np.array([mat1]).shape\n",
    "print('Shape of matrix',z)"
   ]
  },
  {
   "cell_type": "code",
   "execution_count": 16,
   "metadata": {},
   "outputs": [
    {
     "data": {
      "text/plain": [
       "array([[12, 14],\n",
       "       [20, 22]])"
      ]
     },
     "execution_count": 16,
     "metadata": {},
     "output_type": "execute_result"
    }
   ],
   "source": [
    "#extract first and third elements of both the first and third rows from a given (4x4)\n",
    "\n",
    "a=mat1[[0],[0,2]] \n",
    "\n",
    "b=mat1[[2],[0,2]]\n",
    "\n",
    "ext=np.vstack((a,b))\n",
    "ext"
   ]
  },
  {
   "cell_type": "code",
   "execution_count": 17,
   "metadata": {},
   "outputs": [
    {
     "name": "stdout",
     "output_type": "stream",
     "text": [
      "Maximum Element :- 27 \n",
      "Minimum Element is :- 12\n"
     ]
    }
   ],
   "source": [
    "## Maximum and Minimum elements in the Matrix\n",
    "\n",
    "print('Maximum Element :- {a} \\nMinimum Element is :- {j}'.format(a=mat1.max(),j=mat1.min()))\n"
   ]
  },
  {
   "cell_type": "markdown",
   "metadata": {},
   "source": [
    "## Q.3. Create a row vector called meshPoints containing exactly 600 values with values evenly spaced between -1 and 1 with 3 significant figures"
   ]
  },
  {
   "cell_type": "code",
   "execution_count": 18,
   "metadata": {},
   "outputs": [
    {
     "name": "stdout",
     "output_type": "stream",
     "text": [
      "600\n"
     ]
    }
   ],
   "source": [
    "mesh_vec=np.round(np.arange(-1,1,(2/600)),2) # or we can use Linespace\n",
    "print(len(mesh_vec))\n",
    "# mesh_vec"
   ]
  },
  {
   "cell_type": "code",
   "execution_count": 19,
   "metadata": {},
   "outputs": [
    {
     "name": "stdout",
     "output_type": "stream",
     "text": [
      "53th element of meshPoints are => -0.82\n"
     ]
    }
   ],
   "source": [
    "#a) Print the value of the 53th element of meshPoints?\n",
    "print('53th element of meshPoints are => {}'.format(mesh_vec[53]))"
   ]
  },
  {
   "cell_type": "code",
   "execution_count": 20,
   "metadata": {},
   "outputs": [
    {
     "name": "stdout",
     "output_type": "stream",
     "text": [
      "600\n"
     ]
    },
    {
     "data": {
      "image/png": "[encoded data removed]",
      "text/plain": [
       "<Figure size 864x360 with 1 Axes>"
      ]
     },
     "metadata": {
      "needs_background": "light"
     },
     "output_type": "display_data"
    }
   ],
   "source": [
    "# b) Produce a plot of sin(x) between -2*pi and 2*pi having 500 data point in between by using meshPoints vector.\n",
    "#This plot should have clearly labelled x- & y- axis showing the variable name along x-axis and function along y-axis.\n",
    "from scipy.interpolate import make_interp_spline\n",
    "\n",
    "pi=(22/7)\n",
    "\n",
    "x=np.round(np.arange(-2*pi, 2*pi, ((88/7)/600)),3)\n",
    "print(len(x))\n",
    "\n",
    "y=np.sin(x)\n",
    "\n",
    "x_smooth=np.linspace(x.min(),x.max(),600)\n",
    "y_smooth=make_interp_spline(x,y)(x_smooth)\n",
    "\n",
    "# z=np.sin(x)*2\n",
    "plt.figure(figsize=(12,5))\n",
    "# plt.plot(x,y)\n",
    "plt.plot(x_smooth,y_smooth)\n",
    "plt.xlabel(' X- Axis ')\n",
    "plt.ylabel('Y-Axis')\n",
    "plt.grid()\n",
    "plt.show()\n",
    "# x"
   ]
  },
  {
   "cell_type": "code",
   "execution_count": 23,
   "metadata": {},
   "outputs": [],
   "source": [
    "# plt.contourf(x,y,z)"
   ]
  },
  {
   "cell_type": "markdown",
   "metadata": {},
   "source": [
    "## Q.4. Evaluate 𝑒−0.5 using two approaches\n",
    "### a) 𝑒−0.5=1/𝑒^𝑥= 1/1−𝑥+ 𝑥^2− 𝑥^3!+ …..\n",
    "#### b) 𝑒−0.5=1−𝑥+ 𝑥^2− 𝑥^3!+ …..\n",
    "#####  and compare with the true value of 𝑒−0.5=6.737947 ×10−1 for each case. Compute true (𝜀𝑡 %) and approximate relative (𝜀𝑎 %) errors adding terms one-by-one till the 𝜀𝑎%<𝜀𝑠%, where 𝜀𝑠% can be calculated by assuming 7 significant figures for defining all numbers in this question."
   ]
  },
  {
   "cell_type": "code",
   "execution_count": 37,
   "metadata": {},
   "outputs": [
    {
     "name": "stdout",
     "output_type": "stream",
     "text": [
      "Enter the No. Of Terms Needed:3\n",
      "When Term Is:  1\n",
      "Enter the range For Calculation in Series:6\n",
      "Series value=  0.606531\n",
      "Value of true relative error Is=> 9.982818208573017 when Iteration Is: 1 \n",
      "When Term Is:  2\n",
      "Enter the range For Calculation in Series:5\n",
      "Series value=  0.606539\n",
      "Value of true relative error Is=> 9.981630903300355 when Iteration Is: 2 \n",
      "When Term Is:  3\n",
      "Enter the range For Calculation in Series:4\n",
      "Series value=  0.606635\n",
      "Value of true relative error Is=> 9.967383240028445 when Iteration Is: 3 \n",
      "Calculated Value maclaurin Series:  {'Term-1': '0.606531', 'Term-2': '0.606539', 'Term-3': '0.606635'}\n",
      "List of true relative error:  {'Term-1': '9.98282', 'Term-2': '9.98163', 'Term-3': '9.96738'}\n",
      "List of approx relative error:  [100.0, '0.00131896', '0.0158250']\n",
      "Approx Relative Error:  {'Term-1': 100.0, 'Term-2': 0.0013189588798095423, 'Term-3': 0.01582500185448993}\n"
     ]
    }
   ],
   "source": [
    "## a) 𝑒−0.5=1/𝑒^𝑥= 1/(1−𝑥+ 𝑥^2− 𝑥^3!+ …..)\n",
    "true_val=0.6737947\n",
    "\n",
    "previous_Apprx=0\n",
    "pts_a={}\n",
    "mac1=[]\n",
    "term_no=[]\n",
    "true_rltv_error_a={}\n",
    "apprx_rltv_error_a={}\n",
    "y=eval(input('Enter the No. Of Terms Needed:'))\n",
    "for j in range(1,y+1):\n",
    "    print('When Term Is: ',j)\n",
    "    term_no.append(j)\n",
    "    fac1 = 1\n",
    "    z1=0\n",
    "    x=eval(input('Enter the range For Calculation in Series:'))   \n",
    "    for i in range(1,x+1):\n",
    "        fac1=(fac1*i)\n",
    "        z1+=(((0.5)**i)/fac1)\n",
    "        \n",
    "    eqtn=np.round(1/(1+z1),6)\n",
    "    mac1.append(eqtn)\n",
    "    print('Series value= ',eqtn)\n",
    "\n",
    "    # '{:#.Number of significant figures}' .format(value) e-> exponential,f-> float,g->that drops insignificant zeroes'\n",
    "    pts_a['Term-'+str(j)]=('{:#.6g}'.format(eqtn))\n",
    "    \n",
    " #      \"\"\"\"*****************True Relative Error= Act_value-Pred_value/(Act_value)********************\"\"\"\"\n",
    "\n",
    "    true_error=((true_val-eqtn)/true_val)*100\n",
    "    print('Value of true relative error Is=> {b} when Iteration Is: {a} '.format(a=j,b=true_error))\n",
    "\n",
    "    true_rltv_error_a['Term-'+str(j)]=\"{:#.6g}\".format(true_error) #'%.6f'%(true_error)\n",
    "        \n",
    "#        \"\"\"\"****************Apprx reltv error= Current_value-Previous_value/(Current_value)*************\"\"\"\"\n",
    "\n",
    "# error_abs_a=['{:#.6g}'.format((mac1[i+1]-mac1[i])/mac1[i+1]) for i in range(len(mac1)-1)]\n",
    "error_abs_a=[]\n",
    "for i in range(len(mac1)):\n",
    "    if mac1[i-1]==mac1[-1]:\n",
    "        error_abs_a.append(((mac1[i]-0)/mac1[i])*100)\n",
    "        apprx_rltv_error_a['Term-'+str(i+1)]=((mac1[i]-0)/mac1[i])*100\n",
    "    else:\n",
    "        y='{:#.6g}'.format(((mac1[i]-mac1[i-1])/mac1[i])*100)\n",
    "        (error_abs_a.append(y))\n",
    "        apprx_rltv_error_a['Term-'+str(i+1)]=((mac1[i]-mac1[i-1])/mac1[i])*100\n",
    "\n",
    "\n",
    "\n",
    "#     previous_Apprx=((eqtn-previous_Apprx)\n",
    "#     approx_error=np.round((eqtn-approx_error)/eqtn)*100,6)\n",
    "                    \n",
    "#     print('prvs:', previous_Apprx)\n",
    "                          \n",
    "#     print(\"{:#.6g}\".format(previous_Apprx))\n",
    "#     apprx_rltv_error_a['Term-'+str(j)]='{:#.6g}'.format(error_abs_a)\n",
    "    \n",
    "#     print('Value of approximate relative error Is=> {b} when Iteration Is: {a} '.format(a=j,b=approx_error))\n",
    "\n",
    "#     pts.update(eqtn)   \n",
    "#     pts.append(eqtn    \n",
    "# print(\"Factorial of the number is {}\".format(fac)) \n",
    "# print('cal',np.round(z,2))\n",
    "\n",
    "print('Calculated Value maclaurin Series: ', pts_a)\n",
    "print('List of true relative error: ',true_rltv_error_a)\n",
    "print('List of approx relative error: ',(error_abs_a))\n",
    "print('Approx Relative Error: ',apprx_rltv_error_a)"
   ]
  },
  {
   "cell_type": "code",
   "execution_count": null,
   "metadata": {},
   "outputs": [],
   "source": [
    "# print(error_abs_a)\n",
    "print(dict(error_abs_a))\n",
    "\n"
   ]
  },
  {
   "cell_type": "markdown",
   "metadata": {},
   "source": [
    "### i--> The results are to be presented in a tabular form for case (a)  showing “Term no” in first column, “Term value” in second column, “True relative error (%)” in third column and “Approximate relative error (%)” in fourth column."
   ]
  },
  {
   "cell_type": "code",
   "execution_count": 40,
   "metadata": {},
   "outputs": [
    {
     "data": {
      "text/html": [
       "<div>\n",
       "<style scoped>\n",
       "    .dataframe tbody tr th:only-of-type {\n",
       "        vertical-align: middle;\n",
       "    }\n",
       "\n",
       "    .dataframe tbody tr th {\n",
       "        vertical-align: top;\n",
       "    }\n",
       "\n",
       "    .dataframe thead th {\n",
       "        text-align: right;\n",
       "    }\n",
       "</style>\n",
       "<table border=\"1\" class=\"dataframe\">\n",
       "  <thead>\n",
       "    <tr style=\"text-align: right;\">\n",
       "      <th></th>\n",
       "      <th>Result</th>\n",
       "      <th>True_rltv_error %</th>\n",
       "      <th>Apprx_error %</th>\n",
       "    </tr>\n",
       "  </thead>\n",
       "  <tbody>\n",
       "    <tr>\n",
       "      <th>Term-1</th>\n",
       "      <td>0.606531</td>\n",
       "      <td>9.98282</td>\n",
       "      <td>NaN</td>\n",
       "    </tr>\n",
       "    <tr>\n",
       "      <th>Term-2</th>\n",
       "      <td>0.606539</td>\n",
       "      <td>9.98163</td>\n",
       "      <td>NaN</td>\n",
       "    </tr>\n",
       "    <tr>\n",
       "      <th>Term-3</th>\n",
       "      <td>0.606635</td>\n",
       "      <td>9.96738</td>\n",
       "      <td>NaN</td>\n",
       "    </tr>\n",
       "    <tr>\n",
       "      <th>0</th>\n",
       "      <td>NaN</td>\n",
       "      <td>NaN</td>\n",
       "      <td>100</td>\n",
       "    </tr>\n",
       "    <tr>\n",
       "      <th>1</th>\n",
       "      <td>NaN</td>\n",
       "      <td>NaN</td>\n",
       "      <td>0.00131896</td>\n",
       "    </tr>\n",
       "    <tr>\n",
       "      <th>2</th>\n",
       "      <td>NaN</td>\n",
       "      <td>NaN</td>\n",
       "      <td>0.0158250</td>\n",
       "    </tr>\n",
       "  </tbody>\n",
       "</table>\n",
       "</div>"
      ],
      "text/plain": [
       "          Result True_rltv_error % Apprx_error %\n",
       "Term-1  0.606531           9.98282           NaN\n",
       "Term-2  0.606539           9.98163           NaN\n",
       "Term-3  0.606635           9.96738           NaN\n",
       "0            NaN               NaN           100\n",
       "1            NaN               NaN    0.00131896\n",
       "2            NaN               NaN     0.0158250"
      ]
     },
     "execution_count": 40,
     "metadata": {},
     "output_type": "execute_result"
    }
   ],
   "source": [
    "# Concatting the dict and List by using 2 Data Frames\n",
    "\n",
    "\n",
    "y11=pd.concat([pd.DataFrame({'Result':pts_a,'True_rltv_error %':true_rltv_error_a}),pd.DataFrame({'Apprx_error %':error_abs_a})])\n",
    "y11"
   ]
  },
  {
   "cell_type": "code",
   "execution_count": 39,
   "metadata": {},
   "outputs": [
    {
     "data": {
      "text/html": [
       "<div>\n",
       "<style scoped>\n",
       "    .dataframe tbody tr th:only-of-type {\n",
       "        vertical-align: middle;\n",
       "    }\n",
       "\n",
       "    .dataframe tbody tr th {\n",
       "        vertical-align: top;\n",
       "    }\n",
       "\n",
       "    .dataframe thead th {\n",
       "        text-align: right;\n",
       "    }\n",
       "</style>\n",
       "<table border=\"1\" class=\"dataframe\">\n",
       "  <thead>\n",
       "    <tr style=\"text-align: right;\">\n",
       "      <th></th>\n",
       "      <th>Result</th>\n",
       "      <th>True_rltv_error %</th>\n",
       "      <th>Apprx_error %</th>\n",
       "    </tr>\n",
       "  </thead>\n",
       "  <tbody>\n",
       "    <tr>\n",
       "      <th>Term-1</th>\n",
       "      <td>0.606531</td>\n",
       "      <td>9.98282</td>\n",
       "      <td>100.000000</td>\n",
       "    </tr>\n",
       "    <tr>\n",
       "      <th>Term-2</th>\n",
       "      <td>0.606539</td>\n",
       "      <td>9.98163</td>\n",
       "      <td>0.001319</td>\n",
       "    </tr>\n",
       "    <tr>\n",
       "      <th>Term-3</th>\n",
       "      <td>0.606635</td>\n",
       "      <td>9.96738</td>\n",
       "      <td>0.015825</td>\n",
       "    </tr>\n",
       "  </tbody>\n",
       "</table>\n",
       "</div>"
      ],
      "text/plain": [
       "          Result True_rltv_error %  Apprx_error %\n",
       "Term-1  0.606531           9.98282     100.000000\n",
       "Term-2  0.606539           9.98163       0.001319\n",
       "Term-3  0.606635           9.96738       0.015825"
      ]
     },
     "execution_count": 39,
     "metadata": {},
     "output_type": "execute_result"
    }
   ],
   "source": [
    "import pandas as pd\n",
    "# y=pd.concat([pd.DataFrame({'Result':pts_a,'True_rltv_error %':true_rltv_error_a}),pd.DataFrame({'Apprx_error %':error_abs_a})])\n",
    "y=pd.DataFrame({'Result':pts_a,'True_rltv_error %':true_rltv_error_a,'Apprx_error %':apprx_rltv_error_a})\n",
    "y"
   ]
  },
  {
   "cell_type": "code",
   "execution_count": null,
   "metadata": {},
   "outputs": [],
   "source": []
  },
  {
   "cell_type": "code",
   "execution_count": 43,
   "metadata": {},
   "outputs": [
    {
     "name": "stdout",
     "output_type": "stream",
     "text": [
      "Enter the No. Of Terms Needed:3\n",
      "When Terms Is:  1\n",
      "Enter the range For Calculation in Series:6\n",
      "When Terms Is:  2\n",
      "Enter the range For Calculation in Series:5\n",
      "When Terms Is:  3\n",
      "Enter the range For Calculation in Series:4\n",
      "Value of true relative error Is=> 9.947199 when Iteration Is: 3 \n",
      "Series value 1+  -0.39322916666666663 = 0.606771\n",
      "Value of true relative error Is=> 9.947199 when Iteration Is: 3 \n",
      "Series value 1+  -0.39322916666666663 = 0.606771\n",
      "Value of true relative error Is=> 9.947199 when Iteration Is: 3 \n",
      "Series value 1+  -0.39322916666666663 = 0.606771\n",
      "Calculated Value maclaurin Series:  {'Term-1': '0.606532', 'Term-2': '0.606510', 'Term-3': '0.606771'}\n",
      "List of true relative error:  {'Term-1': '9.98267', 'Term-2': '9.98593', 'Term-3': '9.94720'}\n",
      "List of approx relative error:  [100.0, '-0.00362731', '0.0430146']\n",
      "Approx Relative Error {'Term-1': 100.0, 'Term-2': -0.0036273103493704127, 'Term-3': 0.04301458045950708}\n"
     ]
    }
   ],
   "source": [
    "## b) 𝑒−0.5=1−𝑥+ 𝑥22− 𝑥33!+ …..\n",
    "import math\n",
    "true_val=0.6737947\n",
    "Es=0.5*(10**(-4))\n",
    "pts_b={}\n",
    "term_no1=[]\n",
    "true_rltv_error_b={}\n",
    "apprx_rltv_error_b={}\n",
    "mac=[]\n",
    "y=eval(input('Enter the No. Of Terms Needed:'))\n",
    "for j in range(1,y+1):\n",
    "    print('When Terms Is: ',j)\n",
    "    term_no1.append(j)\n",
    "    fac = 1\n",
    "    z=0\n",
    "    x=eval(input('Enter the range For Calculation in Series:'))   \n",
    "    for i in range(1,x+1):\n",
    "        fac=(fac*i)\n",
    "        z+=(((-0.5)**i)/fac)\n",
    "#       ,6 - int(math.floor(math.log10(abs(eqtn)))) - 1 \n",
    "\n",
    "    eqtn=np.round((1+z),6)\n",
    "    mac.append(eqtn)\n",
    "    pts_b['Term-'+str(j)]=('{:#.6g}'.format(eqtn)) # '%.{Number of significant figures}' % e-> exponential,f-> float,g->that drops insignificant zeroes'\n",
    "\n",
    " #      \"\"\"\"*****************True Relative Error= Act_value-Pred_value/(Act_value)********************\"\"\"\"\n",
    " \n",
    "    true_error=np.round(((true_val-eqtn)/true_val)*100,6)\n",
    "    true_rltv_error_b['Term-'+str(j)]=('{:#.6g}'.format(true_error)) # '%.{Number of significant figures}'% e-> exponential,f-> float,g->that drops insignificant zeroes'\n",
    "\n",
    "    \n",
    "#        \"\"\"\"****************Apprx reltv error= Current_value-Previous_value/(Current_value)*************       \"\"\"\"\n",
    " \n",
    "\n",
    "# error_abs_b=['{:#.6g}'.format((mac[i+1]-mac[i])/mac[i+1]) for i in range(len(mac)-1)]\n",
    " \n",
    "    \n",
    "error_abs_b=[]\n",
    "\n",
    "for i in range(len(mac)):\n",
    "    if mac[i-1]==mac[-1]:\n",
    "        error_abs_b.append(((mac[i]-0)/mac[i])*100)\n",
    "        apprx_rltv_error_b['Term-'+str(i+1)]=((mac[i]-0)/mac[i])*100\n",
    "    else:\n",
    "        y='{:#.6g}'.format(((mac[i]-mac[i-1])/mac[i])*100)\n",
    "        (error_abs_b.append(y))\n",
    "        apprx_rltv_error_b['Term-'+str(i+1)]=((mac[i]-mac[i-1])/mac[i])*100\n",
    "\n",
    "\n",
    "\n",
    "    \n",
    "#     approx_error=np.round(((true_val-eqtn)/eqtn)*100,6)\n",
    "#     apprx_rltv_error_b['Term-'+str(j)]='%.6f' % (approx_error)\n",
    "    \n",
    "    print('Value of true relative error Is=> {b} when Iteration Is: {a} '.format(a=j,b=true_error))\n",
    "#     print('Value of approximate relative error Is=> {b} when Iteration Is: {a} '.format(a=j,b=approx_error))\n",
    "\n",
    "#     pts.update(eqtn)   \n",
    "    print('Series value 1+ ',(z),'=',eqtn)\n",
    "#     pts.append(eqtn)\n",
    "\n",
    "  \n",
    "    \n",
    "# print(\"Factorial of the number is {}\".format(fac)) \n",
    "# print('cal',np.round(z,2))\n",
    "\n",
    "print('Calculated Value maclaurin Series: ', pts_b)\n",
    "print('List of true relative error: ',true_rltv_error_b) \n",
    "print('List of approx relative error: ',error_abs_b)\n",
    "print('Approx Relative Error',apprx_rltv_error_b)"
   ]
  },
  {
   "cell_type": "markdown",
   "metadata": {},
   "source": [
    "### i--> The results are to be presented in a tabular form for case (b) showing “Term no” in first column, “Term value” in second column, “True relative error (%)” in third column and “Approximate relative error (%)” in fourth column."
   ]
  },
  {
   "cell_type": "code",
   "execution_count": 33,
   "metadata": {},
   "outputs": [
    {
     "data": {
      "text/html": [
       "<div>\n",
       "<style scoped>\n",
       "    .dataframe tbody tr th:only-of-type {\n",
       "        vertical-align: middle;\n",
       "    }\n",
       "\n",
       "    .dataframe tbody tr th {\n",
       "        vertical-align: top;\n",
       "    }\n",
       "\n",
       "    .dataframe thead th {\n",
       "        text-align: right;\n",
       "    }\n",
       "</style>\n",
       "<table border=\"1\" class=\"dataframe\">\n",
       "  <thead>\n",
       "    <tr style=\"text-align: right;\">\n",
       "      <th></th>\n",
       "      <th>Result</th>\n",
       "      <th>True_rltv_error %</th>\n",
       "      <th>Apprx_error %</th>\n",
       "    </tr>\n",
       "  </thead>\n",
       "  <tbody>\n",
       "    <tr>\n",
       "      <th>Term-1</th>\n",
       "      <td>0.606532</td>\n",
       "      <td>9.982670</td>\n",
       "      <td>100.000000</td>\n",
       "    </tr>\n",
       "    <tr>\n",
       "      <th>Term-2</th>\n",
       "      <td>0.606510</td>\n",
       "      <td>9.985935</td>\n",
       "      <td>-0.003627</td>\n",
       "    </tr>\n",
       "    <tr>\n",
       "      <th>Term-3</th>\n",
       "      <td>0.606771</td>\n",
       "      <td>9.947199</td>\n",
       "      <td>0.043015</td>\n",
       "    </tr>\n",
       "  </tbody>\n",
       "</table>\n",
       "</div>"
      ],
      "text/plain": [
       "          Result True_rltv_error %  Apprx_error %\n",
       "Term-1  0.606532          9.982670     100.000000\n",
       "Term-2  0.606510          9.985935      -0.003627\n",
       "Term-3  0.606771          9.947199       0.043015"
      ]
     },
     "execution_count": 33,
     "metadata": {},
     "output_type": "execute_result"
    }
   ],
   "source": [
    "import pandas as pd\n",
    "# y1=pd.concat([pd.DataFrame({'Result':pts_b,'True_rltv_error %':true_rltv_error_b}),pd.DataFrame({'Apprx_error %':error_abs_b})])\n",
    "y1=pd.DataFrame({'Result':pts_b,'True_rltv_error %':true_rltv_error_b,'Apprx_error %':apprx_rltv_error_b})\n",
    "y1"
   ]
  },
  {
   "cell_type": "code",
   "execution_count": 36,
   "metadata": {},
   "outputs": [
    {
     "data": {
      "text/html": [
       "<div>\n",
       "<style scoped>\n",
       "    .dataframe tbody tr th:only-of-type {\n",
       "        vertical-align: middle;\n",
       "    }\n",
       "\n",
       "    .dataframe tbody tr th {\n",
       "        vertical-align: top;\n",
       "    }\n",
       "\n",
       "    .dataframe thead th {\n",
       "        text-align: right;\n",
       "    }\n",
       "</style>\n",
       "<table border=\"1\" class=\"dataframe\">\n",
       "  <thead>\n",
       "    <tr style=\"text-align: right;\">\n",
       "      <th></th>\n",
       "      <th>Result</th>\n",
       "      <th>True_rltv_error %</th>\n",
       "      <th>Apprx_error %</th>\n",
       "    </tr>\n",
       "  </thead>\n",
       "  <tbody>\n",
       "    <tr>\n",
       "      <th>Term-1</th>\n",
       "      <td>0.606532</td>\n",
       "      <td>9.982670</td>\n",
       "      <td>NaN</td>\n",
       "    </tr>\n",
       "    <tr>\n",
       "      <th>Term-2</th>\n",
       "      <td>0.606510</td>\n",
       "      <td>9.985935</td>\n",
       "      <td>NaN</td>\n",
       "    </tr>\n",
       "    <tr>\n",
       "      <th>Term-3</th>\n",
       "      <td>0.606771</td>\n",
       "      <td>9.947199</td>\n",
       "      <td>NaN</td>\n",
       "    </tr>\n",
       "    <tr>\n",
       "      <th>0</th>\n",
       "      <td>NaN</td>\n",
       "      <td>NaN</td>\n",
       "      <td>100</td>\n",
       "    </tr>\n",
       "    <tr>\n",
       "      <th>1</th>\n",
       "      <td>NaN</td>\n",
       "      <td>NaN</td>\n",
       "      <td>-0.00362731</td>\n",
       "    </tr>\n",
       "    <tr>\n",
       "      <th>2</th>\n",
       "      <td>NaN</td>\n",
       "      <td>NaN</td>\n",
       "      <td>0.0430146</td>\n",
       "    </tr>\n",
       "  </tbody>\n",
       "</table>\n",
       "</div>"
      ],
      "text/plain": [
       "          Result True_rltv_error % Apprx_error %\n",
       "Term-1  0.606532          9.982670           NaN\n",
       "Term-2  0.606510          9.985935           NaN\n",
       "Term-3  0.606771          9.947199           NaN\n",
       "0            NaN               NaN           100\n",
       "1            NaN               NaN   -0.00362731\n",
       "2            NaN               NaN     0.0430146"
      ]
     },
     "execution_count": 36,
     "metadata": {},
     "output_type": "execute_result"
    }
   ],
   "source": [
    "# Concatting the dict and List by using 2 Data Frames\n",
    "\n",
    "y12=pd.concat([pd.DataFrame({'Result':pts_b,'True_rltv_error %':true_rltv_error_b}),pd.DataFrame({'Apprx_error %':error_abs_b})])\n",
    "y12"
   ]
  },
  {
   "cell_type": "markdown",
   "metadata": {},
   "source": [
    "### II. Plot the variation of 𝜀𝑡 % for case (a) and case (b) Versus “Term no” in a single plot. Use blue color line to represent case (a) results and red color line to represent case (b) results. Mark the legends for red line as “Case (a)” and for blue line as “Case (b)”. The xlabel for the plot should be “Term no” and ylabel for this plot should be “True relative error (%)”."
   ]
  },
  {
   "cell_type": "code",
   "execution_count": 42,
   "metadata": {},
   "outputs": [
    {
     "data": {
      "image/png": "[encoded data removed]",
      "text/plain": [
       "<Figure size 432x288 with 1 Axes>"
      ]
     },
     "metadata": {
      "needs_background": "light"
     },
     "output_type": "display_data"
    }
   ],
   "source": [
    "import seaborn as sns\n",
    "# sns.distplot(true_rltv_error_b)\n",
    "plt.plot(term_no,list(true_rltv_error_a.values()),c='blue',label='case a')\n",
    "plt.plot(term_no1,list(true_rltv_error_b.values()),c='red',label='case b')\n",
    "\n",
    "plt.xlabel('Term No.')\n",
    "plt.ylabel('% True relative Error')\n",
    "plt.grid()\n",
    "plt.legend()\n",
    "plt.show()"
   ]
  },
  {
   "cell_type": "markdown",
   "metadata": {},
   "source": [
    "### III. Plot the variation of 𝜀𝑎 % for case (a) and case (b) Versus “Term no” in a single plot. Use blue color line to represent case (a) results and red color line to represent case (b) results. Mark the legends for red line as “Case (a)” and for blue line as “Case (b)”. The xlabel for the plot should be “Term no” and ylabel for this plot should be “Approximate relative error (%)”."
   ]
  },
  {
   "cell_type": "code",
   "execution_count": null,
   "metadata": {},
   "outputs": [],
   "source": []
  },
  {
   "cell_type": "code",
   "execution_count": 41,
   "metadata": {},
   "outputs": [
    {
     "data": {
      "image/png": "[encoded data removed]",
      "text/plain": [
       "<Figure size 432x288 with 1 Axes>"
      ]
     },
     "metadata": {
      "needs_background": "light"
     },
     "output_type": "display_data"
    }
   ],
   "source": [
    "# plt.plot(term_no,list(apprx_rltv_error_a.values()),c='blue',label='case a')\n",
    "# plt.plot(term_no1,list(apprx_rltv_error_b.values()),c='red',label='case b')\n",
    "\n",
    "plt.plot(term_no1,error_abs_b,c='r',label='case B')\n",
    "plt.plot(term_no,error_abs_a,c='b',label='case A')\n",
    "plt.xlabel('Term No.')\n",
    "plt.ylabel('% Approximate relative Error')\n",
    "plt.legend()\n",
    "plt.grid()\n",
    "plt.show()"
   ]
  },
  {
   "cell_type": "code",
   "execution_count": null,
   "metadata": {},
   "outputs": [],
   "source": []
  },
  {
   "cell_type": "code",
   "execution_count": null,
   "metadata": {},
   "outputs": [],
   "source": []
  },
  {
   "cell_type": "code",
   "execution_count": null,
   "metadata": {},
   "outputs": [],
   "source": []
  },
  {
   "cell_type": "markdown",
   "metadata": {},
   "source": [
    "#                              The End"
   ]
  },
  {
   "cell_type": "code",
   "execution_count": null,
   "metadata": {},
   "outputs": [],
   "source": [
    "## Example using meshgrid\n",
    "# x = np.arange(-5, 5, 0.1)\n",
    "# y = np.arange(-5, 5, 0.1)\n",
    "# xx, yy = np.meshgrid(x, y, sparse=True)\n",
    "\n",
    "# y1=np.sin(x)\n",
    "# plt.plot(x,y1)\n",
    "# plt.show()\n",
    "# print()"
   ]
  },
  {
   "cell_type": "code",
   "execution_count": null,
   "metadata": {},
   "outputs": [],
   "source": [
    "'''def vec(unc1,unc):\n",
    "    a=int(input(\"Enter the number of rows:- \"))\n",
    "    b=int(input(\"Enter the number of columns:- \"))\n",
    "    out=[]\n",
    "    for i in range(a):\n",
    "        print('When row No. is {}'.format(i))\n",
    "        x=[]\n",
    "        for j in range (b):\n",
    "            x.append(eval(input()))\n",
    "        out.append(x)\n",
    "        \n",
    "    print(out)\n",
    "    z=np.array([out]).shape\n",
    "    print('Shape of matrix',z)\n",
    "    \n",
    "    return vec'''"
   ]
  },
  {
   "cell_type": "code",
   "execution_count": null,
   "metadata": {},
   "outputs": [],
   "source": [
    "# vec(unc1,unc)"
   ]
  },
  {
   "cell_type": "code",
   "execution_count": null,
   "metadata": {},
   "outputs": [],
   "source": [
    "# ‪flower_rose= r'C:\\\\Users\\\\Mizgaan\\\\Downloads\\\\flower_images\\\\training\\\\rose'\n",
    "\n",
    "import matplotlib.pyplot as plt \n",
    "import numpy as np \n",
    "from matplotlib.ticker import EngFormatter \n",
    "\n",
    "prng = np.random.RandomState(19680801) \n",
    "\n",
    "xs = np.logspace(1, 9, 100) \n",
    "ys = (0.8 + 0.4 * prng.uniform(size = 100)) * np.log10(xs)**2\n",
    "\n",
    "plt.xscale('log') \n",
    "\n",
    "formatter0 = EngFormatter(unit ='Hz') \n",
    "plt.plot(xs, ys) \n",
    "plt.xlabel('Frequency') \n",
    "\n",
    "plt.title('matplotlib.pyplot.tight_layout() Example') \n",
    "plt.tight_layout() \n",
    "plt.show() \n"
   ]
  }
 ],
 "metadata": {
  "kernelspec": {
   "display_name": "Python 3",
   "language": "python",
   "name": "python3"
  },
  "language_info": {
   "codemirror_mode": {
    "name": "ipython",
    "version": 3
   },
   "file_extension": ".py",
   "mimetype": "text/x-python",
   "name": "python",
   "nbconvert_exporter": "python",
   "pygments_lexer": "ipython3",
   "version": "3.7.3"
  }
 },
 "nbformat": 4,
 "nbformat_minor": 2
}
